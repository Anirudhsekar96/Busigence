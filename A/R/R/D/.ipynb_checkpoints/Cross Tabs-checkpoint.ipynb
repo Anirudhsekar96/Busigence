{
 "cells": [
  {
   "cell_type": "code",
   "execution_count": 1,
   "metadata": {},
   "outputs": [
    {
     "name": "stderr",
     "output_type": "stream",
     "text": [
      "/home/anirudh/anaconda/lib/python2.7/site-packages/sklearn/cross_validation.py:44: DeprecationWarning: This module was deprecated in version 0.18 in favor of the model_selection module into which all the refactored classes and functions are moved. Also note that the interface of the new CV iterators are different from that of this module. This module will be removed in 0.20.\n",
      "  \"This module will be removed in 0.20.\", DeprecationWarning)\n"
     ]
    }
   ],
   "source": [
    "import pandas as pd\n",
    "import numpy as np\n",
    "from sklearn.preprocessing import LabelEncoder\n",
    "from sklearn.preprocessing import OneHotEncoder\n",
    "from xgboost.sklearn import XGBRegressor\n",
    "from sklearn.metrics import mean_squared_error\n",
    "from sklearn.neural_network import MLPClassifier\n",
    "from sklearn.cross_validation import train_test_split\n",
    "from sklearn.ensemble import RandomForestClassifier\n",
    "from sklearn.metrics import accuracy_score,confusion_matrix,f1_score\n",
    "from random import randint\n",
    "from sklearn.model_selection import cross_val_predict\n",
    "from sklearn.preprocessing import StandardScaler\n",
    "from sklearn.neighbors import KNeighborsClassifier\n",
    "from sklearn.metrics import accuracy_score,confusion_matrix,f1_score\n",
    "from sklearn.datasets import load_diabetes\n",
    "from sklearn.metrics.pairwise import cosine_similarity\n",
    "from sklearn.preprocessing import LabelEncoder"
   ]
  },
  {
   "cell_type": "code",
   "execution_count": 4,
   "metadata": {
    "collapsed": true
   },
   "outputs": [],
   "source": [
    "def create_data():\n",
    "    \n",
    "    # Reading the data into python \n",
    "    customer=pd.read_excel('LU_CUSTOMER.xlsx')\n",
    "    item=pd.read_excel('LU_ITEM.xlsx')\n",
    "    order=pd.read_excel('LU_ORDER.xlsx')\n",
    "    detail=pd.read_excel('ORDER_DETAIL.xlsx')\n",
    "    \n",
    "    #customer.head()\n",
    "    #item.head()\n",
    "    #detail.head()\n",
    "    #order.head()\n",
    "    \n",
    "    # Joining the Tables\n",
    "    order_details = pd.merge(order,detail, on=['CUSTOMER_ID','ORDER_ID'],how='outer')\n",
    "    order_details_cust = pd.merge(order_details,customer,on=['CUSTOMER_ID'],how='outer')\n",
    "    order_details_full = pd.merge(order_details_cust,item, on=['ITEM_ID','UNIT_PRICE','UNIT_COST'],how='outer')\n",
    "    df = order_details_full.drop(['CUST_LAST_NAME','CUST_FIRST_NAME','CUST_BIRTHDATE','EMAIL','ADDRESS','BRACKET_DESC','CUST_CITY_NAME','ITEM_NAME','ITEM_LONG_DESC'], axis=1)\n",
    "    \n",
    "    return df"
   ]
  },
  {
   "cell_type": "code",
   "execution_count": 5,
   "metadata": {
    "collapsed": true
   },
   "outputs": [],
   "source": [
    "def Preproccess_data(df):\n",
    "    \n",
    "    # Missing value imputation with a negative value \n",
    "    df.fillna(-1,inplace=True)\n",
    "    \n",
    "    return df\n",
    "    "
   ]
  },
  {
   "cell_type": "code",
   "execution_count": 6,
   "metadata": {
    "collapsed": true
   },
   "outputs": [],
   "source": [
    "def Train_model(df,clf):\n",
    "    \n",
    "    # Creating the Target and Independant variables \n",
    "    X = df.drop(['CUSTOMER_ID','ORDER_ID'],axis=1)\n",
    "    y = df['CUSTOMER_ID']\n",
    "    \n",
    "    # Creating the prediciton model\n",
    "    \n",
    "    \n",
    "    #knn_mod.fit(X,y)\n",
    "    y_pred = cross_val_predict(clf,X,y,cv=8,n_jobs=-1)\n",
    "\n",
    "    # Results\n",
    "    print('Accuracy Score: ' + str(accuracy_score(y,y_pred)) + '\\n')\n",
    "    #print('Confusion Matrix: \\n ' + str(confusion_matrix(y,y_pred)) + '\\n')\n",
    "    #print('F1 Score: ' + str(f1_score(y,y_pred, average='macro')))\n",
    "    \n",
    "    return y_pred\n"
   ]
  },
  {
   "cell_type": "code",
   "execution_count": 7,
   "metadata": {},
   "outputs": [],
   "source": [
    "if __name__ == \"__main__\":\n",
    "    \n",
    "    df = create_data()\n",
    "    df = Preproccess_data(df)\n",
    "    \n",
    "    df_ct = pd.crosstab(df['ORDER_DATE'],df['CUSTOMER_ID'])"
   ]
  },
  {
   "cell_type": "code",
   "execution_count": 10,
   "metadata": {},
   "outputs": [
    {
     "data": {
      "text/plain": [
       "ORDER_DATE\n",
       "2003-01-01    2017\n",
       "2003-01-02    1478\n",
       "2003-01-03     370\n",
       "2003-01-04    2309\n",
       "2003-01-05    2291\n",
       "2003-01-06    2386\n",
       "2003-01-07     896\n",
       "2003-01-08    1349\n",
       "2003-01-09    1099\n",
       "2003-01-10     852\n",
       "2003-01-11    1011\n",
       "2003-01-12    1892\n",
       "2003-01-13    1663\n",
       "2003-01-14     278\n",
       "2003-01-15     890\n",
       "2003-01-16     947\n",
       "2003-01-17     751\n",
       "2003-01-18    2232\n",
       "2003-01-19    2013\n",
       "2003-01-20    1287\n",
       "2003-01-21     825\n",
       "2003-01-22    5746\n",
       "2003-01-23    1930\n",
       "2003-01-24    2191\n",
       "2003-01-25    1622\n",
       "2003-01-26    1398\n",
       "2003-01-27    1721\n",
       "2003-01-28     448\n",
       "2003-01-29    1979\n",
       "2003-01-30    2023\n",
       "              ... \n",
       "2004-12-02    6888\n",
       "2004-12-03    6732\n",
       "2004-12-04    3595\n",
       "2004-12-05    2030\n",
       "2004-12-06       1\n",
       "2004-12-07    8385\n",
       "2004-12-08    7107\n",
       "2004-12-09    5421\n",
       "2004-12-10    5513\n",
       "2004-12-11    1391\n",
       "2004-12-12    3075\n",
       "2004-12-13     409\n",
       "2004-12-14    1293\n",
       "2004-12-15    8734\n",
       "2004-12-16    6338\n",
       "2004-12-17     155\n",
       "2004-12-18    8983\n",
       "2004-12-19    1975\n",
       "2004-12-20     465\n",
       "2004-12-21     667\n",
       "2004-12-22    8196\n",
       "2004-12-23    8348\n",
       "2004-12-24    2696\n",
       "2004-12-25    1480\n",
       "2004-12-26    4774\n",
       "2004-12-27    5198\n",
       "2004-12-28    6761\n",
       "2004-12-29    4568\n",
       "2004-12-30    9470\n",
       "2004-12-31    4571\n",
       "Length: 730, dtype: int64"
      ]
     },
     "execution_count": 10,
     "metadata": {},
     "output_type": "execute_result"
    }
   ],
   "source": [
    "df_ct.idxmax(axis=1)"
   ]
  },
  {
   "cell_type": "code",
   "execution_count": null,
   "metadata": {
    "collapsed": true
   },
   "outputs": [],
   "source": []
  }
 ],
 "metadata": {
  "kernelspec": {
   "display_name": "Python 2",
   "language": "python",
   "name": "python2"
  },
  "language_info": {
   "codemirror_mode": {
    "name": "ipython",
    "version": 2
   },
   "file_extension": ".py",
   "mimetype": "text/x-python",
   "name": "python",
   "nbconvert_exporter": "python",
   "pygments_lexer": "ipython2",
   "version": "2.7.13"
  }
 },
 "nbformat": 4,
 "nbformat_minor": 2
}
