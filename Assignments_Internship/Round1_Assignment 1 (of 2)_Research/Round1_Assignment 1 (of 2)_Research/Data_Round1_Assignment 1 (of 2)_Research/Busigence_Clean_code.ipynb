{
 "cells": [
  {
   "cell_type": "code",
   "execution_count": 2,
   "metadata": {
    "collapsed": false
   },
   "outputs": [],
   "source": [
    "#!pip install xlrd\n",
    "#!source activate anirudh\n",
    "#!pip install xlrd\n",
    "\n",
    "import pandas as pd\n",
    "import numpy as np\n",
    "from sklearn.preprocessing import LabelEncoder\n",
    "from sklearn.preprocessing import OneHotEncoder\n",
    "#from xgboost.sklearn import XGBRegressor\n",
    "from sklearn.metrics import mean_squared_error\n",
    "from sklearn.neural_network import MLPClassifier\n",
    "from sklearn.cross_validation import train_test_split\n",
    "from sklearn.ensemble import RandomForestClassifier\n",
    "from sklearn.metrics import accuracy_score,confusion_matrix,f1_score\n",
    "from random import randint\n",
    "from sklearn.model_selection import cross_val_predict\n",
    "from sklearn.preprocessing import StandardScaler\n",
    "from sklearn.neighbors import KNeighborsClassifier\n",
    "from sklearn.metrics import accuracy_score,confusion_matrix,f1_score\n",
    "from sklearn.datasets import load_diabetes\n",
    "from sklearn.metrics.pairwise import cosine_similarity\n",
    "from sklearn.preprocessing import LabelEncoder"
   ]
  },
  {
   "cell_type": "code",
   "execution_count": null,
   "metadata": {
    "collapsed": true
   },
   "outputs": [],
   "source": [
    "def create_data():\n",
    "    \n",
    "    # Reading the data into python \n",
    "    customer=pd.read_excel('LU_CUSTOMER.xlsx')\n",
    "    item=pd.read_excel('LU_ITEM.xlsx')\n",
    "    order=pd.read_excel('LU_ORDER.xlsx')\n",
    "    detail=pd.read_excel('ORDER_DETAIL.xlsx')\n",
    "    \n",
    "    #customer.head()\n",
    "    #item.head()\n",
    "    #detail.head()\n",
    "    #order.head()\n",
    "    \n",
    "    # Joining the Tables\n",
    "    order_details = pd.merge(order,detail, on=['CUSTOMER_ID','ORDER_ID'],how='outer')\n",
    "    order_details_cust = pd.merge(order_details,customer,on=['CUSTOMER_ID'],how='outer')\n",
    "    order_details_full = pd.merge(order_details_cust,item, on=['ITEM_ID','UNIT_PRICE','UNIT_COST'],how='outer')\n",
    "    df = order_details_full.drop(['ORDER_DATE','CUST_LAST_NAME','CUST_FIRST_NAME','CUST_BIRTHDATE','EMAIL','ADDRESS','BRACKET_DESC','CUST_CITY_NAME','ITEM_NAME','ITEM_LONG_DESC'], axis=1)\n",
    "    \n",
    "    return df"
   ]
  },
  {
   "cell_type": "code",
   "execution_count": null,
   "metadata": {
    "collapsed": true
   },
   "outputs": [],
   "source": [
    "def Preproccess_data(df):\n",
    "    \n",
    "    # Missing value imputation with a negative value \n",
    "    df.fillna(-1,inplace=True)\n",
    "    \n",
    "    return df\n",
    "    "
   ]
  },
  {
   "cell_type": "code",
   "execution_count": null,
   "metadata": {
    "collapsed": true
   },
   "outputs": [],
   "source": [
    "def Train_model(df,clf):\n",
    "    \n",
    "    # Creating the Target and Independant variables \n",
    "    X = df.drop(['CUSTOMER_ID','ORDER_ID'],axis=1)\n",
    "    y = df['CUSTOMER_ID']\n",
    "    \n",
    "    # Creating the prediciton model\n",
    "    \n",
    "    \n",
    "    #knn_mod.fit(X,y)\n",
    "    y_pred = cross_val_predict(clf,X,y,cv=8,n_jobs=-1)\n",
    "\n",
    "    # Results\n",
    "    print('Accuracy Score: ' + str(accuracy_score(y,y_pred)) + '\\n')\n",
    "    #print('Confusion Matrix: \\n ' + str(confusion_matrix(y,y_pred)) + '\\n')\n",
    "    #print('F1 Score: ' + str(f1_score(y,y_pred, average='macro')))\n",
    "    \n",
    "    return y_pred\n"
   ]
  },
  {
   "cell_type": "code",
   "execution_count": null,
   "metadata": {
    "collapsed": false
   },
   "outputs": [],
   "source": [
    "if __name__ == \"__main__\":\n",
    "    \n",
    "    df = create_data()\n",
    "    df = Preproccess_data(df)\n",
    "    \n",
    "    clf = KNeighborsClassifier()\n",
    "    #y_cols = ['CUSTOMER_ID','ORDER_ID']\n",
    "    \n",
    "    #clf = RandomForestClassifier()\n",
    "    \n",
    "    y_pred = Train_model(df,clf)\n",
    "    "
   ]
  },
  {
   "cell_type": "code",
   "execution_count": null,
   "metadata": {
    "collapsed": true
   },
   "outputs": [],
   "source": []
  }
 ],
 "metadata": {
  "kernelspec": {
   "display_name": "Intel Python 2 2018",
   "language": "python",
   "name": "python2"
  },
  "language_info": {
   "codemirror_mode": {
    "name": "ipython",
    "version": 2
   },
   "file_extension": ".py",
   "mimetype": "text/x-python",
   "name": "python",
   "nbconvert_exporter": "python",
   "pygments_lexer": "ipython2",
   "version": "2.7.13"
  }
 },
 "nbformat": 4,
 "nbformat_minor": 2
}
